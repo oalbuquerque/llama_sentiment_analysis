{
  "nbformat": 4,
  "nbformat_minor": 0,
  "metadata": {
    "colab": {
      "provenance": [],
      "authorship_tag": "ABX9TyP/5xqb48fvinGarkZBIZXb",
      "include_colab_link": true
    },
    "kernelspec": {
      "name": "python3",
      "display_name": "Python 3"
    },
    "language_info": {
      "name": "python"
    }
  },
  "cells": [
    {
      "cell_type": "markdown",
      "metadata": {
        "id": "view-in-github",
        "colab_type": "text"
      },
      "source": [
        "<a href=\"https://colab.research.google.com/github/oalbuquerque/llama_sentiment_analysis/blob/main/main.ipynb\" target=\"_parent\"><img src=\"https://colab.research.google.com/assets/colab-badge.svg\" alt=\"Open In Colab\"/></a>"
      ]
    },
    {
      "cell_type": "code",
      "execution_count": 1,
      "metadata": {
        "id": "c1uG2ZeeZB6w",
        "outputId": "a8b87684-d669-443a-bb1d-9ea50d8b8bf7",
        "colab": {
          "base_uri": "https://localhost:8080/",
          "height": 130
        }
      },
      "outputs": [
        {
          "output_type": "error",
          "ename": "SyntaxError",
          "evalue": "ignored",
          "traceback": [
            "\u001b[0;36m  File \u001b[0;32m\"<ipython-input-1-f3034c09a578>\"\u001b[0;36m, line \u001b[0;32m4\u001b[0m\n\u001b[0;31m    model_name = alpaca'\u001b[0m\n\u001b[0m                       ^\u001b[0m\n\u001b[0;31mSyntaxError\u001b[0m\u001b[0;31m:\u001b[0m unterminated string literal (detected at line 4)\n"
          ]
        }
      ],
      "source": [
        "import torch\n",
        "\n",
        "#from transformers import LlamaForCausalLM, LlamaTokenizer\n",
        "from transformers import AutoTokenizer, AutoModelForCausalLM\n",
        "\n",
        "model_name = 'alpaca'\n",
        "path = '/mnt/database/llama-main/'\n",
        "checkpoint = path + model_name\n",
        "\n",
        "#tokenizer = LlamaTokenizer.from_pretrained(\"/output/path\")\n",
        "#model = LlamaForCausalLM.from_pretrained(\"/output/path\")\n",
        "\n",
        "model = AutoModelForCausalLM.from_pretrained(checkpoint, device_map=\"auto\")\n",
        "tokenizer = AutoTokenizer.from_pretrained(checkpoint)\n",
        "\n",
        "prompt = \"What Brazilian researchers won the Nobel Prize?\"\n",
        "inputs = tokenizer(prompt, return_tensors=\"pt\").to('cuda')\n",
        "\n",
        "# Generate\n",
        "generate_ids = model.generate(inputs.input_ids, max_length=20)\n",
        "text = tokenizer.batch_decode(generate_ids, skip_special_tokens=True, clean_up_tokenization_spaces=False)[0]\n",
        "print(text)"
      ]
    }
  ]
}